{
 "cells": [
  {
   "cell_type": "code",
   "execution_count": 1,
   "metadata": {},
   "outputs": [],
   "source": [
    "PATH = 'data/'"
   ]
  },
  {
   "cell_type": "code",
   "execution_count": 2,
   "metadata": {},
   "outputs": [
    {
     "name": "stdout",
     "output_type": "stream",
     "text": [
      "/home/ubuntu/elo\n",
      "Data_Dictionary.xlsx\t\t    new_merchant_transactions.csv.zip\n",
      "historical_transactions.csv\t    new_merchant_transactions_20000.csv\n",
      "historical_transactions.csv.zip     sample_submission.csv.zip\n",
      "historical_transactions_100000.csv  test.csv\n",
      "historical_transactions_20000.csv   test.csv.zip\n",
      "merchants.csv\t\t\t    train.csv\n",
      "merchants.csv.zip\t\t    train.csv.zip\n",
      "new_merchant_transactions.csv\n"
     ]
    }
   ],
   "source": [
    "!pwd\n",
    "!ls {PATH}"
   ]
  },
  {
   "cell_type": "code",
   "execution_count": 3,
   "metadata": {},
   "outputs": [],
   "source": [
    "import pandas as pd"
   ]
  },
  {
   "cell_type": "markdown",
   "metadata": {},
   "source": [
    "### Train and Test data"
   ]
  },
  {
   "cell_type": "code",
   "execution_count": 4,
   "metadata": {},
   "outputs": [
    {
     "data": {
      "text/plain": [
       "['first_active_month',\n",
       " 'card_id',\n",
       " 'feature_1',\n",
       " 'feature_2',\n",
       " 'feature_3',\n",
       " 'target']"
      ]
     },
     "execution_count": 4,
     "metadata": {},
     "output_type": "execute_result"
    }
   ],
   "source": [
    "df_train = pd.read_csv(f'{PATH}train.csv', nrows=10); df_train.columns.tolist()"
   ]
  },
  {
   "cell_type": "code",
   "execution_count": 5,
   "metadata": {},
   "outputs": [
    {
     "data": {
      "text/plain": [
       "['first_active_month',\n",
       " 'card_id',\n",
       " 'feature_1',\n",
       " 'feature_2',\n",
       " 'feature_3',\n",
       " 'target']"
      ]
     },
     "execution_count": 5,
     "metadata": {},
     "output_type": "execute_result"
    }
   ],
   "source": [
    "df_test = pd.read_csv(f'{PATH}train.csv', nrows=10); df_test.columns.tolist()"
   ]
  },
  {
   "cell_type": "code",
   "execution_count": 6,
   "metadata": {},
   "outputs": [
    {
     "name": "stdout",
     "output_type": "stream",
     "text": [
      "<class 'pandas.core.frame.DataFrame'>\n",
      "RangeIndex: 10 entries, 0 to 9\n",
      "Data columns (total 6 columns):\n",
      "first_active_month    10 non-null object\n",
      "card_id               10 non-null object\n",
      "feature_1             10 non-null int64\n",
      "feature_2             10 non-null int64\n",
      "feature_3             10 non-null int64\n",
      "target                10 non-null float64\n",
      "dtypes: float64(1), int64(3), object(2)\n",
      "memory usage: 560.0+ bytes\n"
     ]
    }
   ],
   "source": [
    "df_train.info()"
   ]
  },
  {
   "cell_type": "code",
   "execution_count": 7,
   "metadata": {},
   "outputs": [
    {
     "name": "stdout",
     "output_type": "stream",
     "text": [
      "<class 'pandas.core.frame.DataFrame'>\n",
      "RangeIndex: 10 entries, 0 to 9\n",
      "Data columns (total 6 columns):\n",
      "first_active_month    10 non-null object\n",
      "card_id               10 non-null object\n",
      "feature_1             10 non-null int64\n",
      "feature_2             10 non-null int64\n",
      "feature_3             10 non-null int64\n",
      "target                10 non-null float64\n",
      "dtypes: float64(1), int64(3), object(2)\n",
      "memory usage: 560.0+ bytes\n"
     ]
    }
   ],
   "source": [
    "df_test.info()"
   ]
  },
  {
   "cell_type": "code",
   "execution_count": 8,
   "metadata": {},
   "outputs": [
    {
     "data": {
      "text/plain": [
       "0    2017-06\n",
       "1    2017-01\n",
       "2    2016-08\n",
       "3    2017-09\n",
       "4    2017-11\n",
       "Name: first_active_month, dtype: object"
      ]
     },
     "execution_count": 8,
     "metadata": {},
     "output_type": "execute_result"
    }
   ],
   "source": [
    "df_train.first_active_month.head(5)"
   ]
  },
  {
   "cell_type": "markdown",
   "metadata": {},
   "source": [
    "**NOTE:** \n",
    "- `card_id` is index\n",
    "- `fist_active_month` should be converted to date type or a category type"
   ]
  },
  {
   "cell_type": "markdown",
   "metadata": {},
   "source": [
    "### Transaction data"
   ]
  },
  {
   "cell_type": "code",
   "execution_count": 9,
   "metadata": {},
   "outputs": [
    {
     "data": {
      "text/plain": [
       "['authorized_flag',\n",
       " 'card_id',\n",
       " 'city_id',\n",
       " 'category_1',\n",
       " 'installments',\n",
       " 'category_3',\n",
       " 'merchant_category_id',\n",
       " 'merchant_id',\n",
       " 'month_lag',\n",
       " 'purchase_amount',\n",
       " 'purchase_date',\n",
       " 'category_2',\n",
       " 'state_id',\n",
       " 'subsector_id']"
      ]
     },
     "execution_count": 9,
     "metadata": {},
     "output_type": "execute_result"
    }
   ],
   "source": [
    "df_hist = pd.read_csv(f'{PATH}historical_transactions.csv', nrows=10); df_hist.columns.tolist()"
   ]
  },
  {
   "cell_type": "code",
   "execution_count": 10,
   "metadata": {},
   "outputs": [
    {
     "data": {
      "text/plain": [
       "['authorized_flag',\n",
       " 'card_id',\n",
       " 'city_id',\n",
       " 'category_1',\n",
       " 'installments',\n",
       " 'category_3',\n",
       " 'merchant_category_id',\n",
       " 'merchant_id',\n",
       " 'month_lag',\n",
       " 'purchase_amount',\n",
       " 'purchase_date',\n",
       " 'category_2',\n",
       " 'state_id',\n",
       " 'subsector_id']"
      ]
     },
     "execution_count": 10,
     "metadata": {},
     "output_type": "execute_result"
    }
   ],
   "source": [
    "df_new = pd.read_csv(f'{PATH}new_merchant_transactions.csv', nrows=10); df_new.columns.tolist()"
   ]
  },
  {
   "cell_type": "code",
   "execution_count": 11,
   "metadata": {},
   "outputs": [
    {
     "name": "stdout",
     "output_type": "stream",
     "text": [
      "<class 'pandas.core.frame.DataFrame'>\n",
      "RangeIndex: 10 entries, 0 to 9\n",
      "Data columns (total 14 columns):\n",
      "authorized_flag         10 non-null object\n",
      "card_id                 10 non-null object\n",
      "city_id                 10 non-null int64\n",
      "category_1              10 non-null object\n",
      "installments            10 non-null int64\n",
      "category_3              10 non-null object\n",
      "merchant_category_id    10 non-null int64\n",
      "merchant_id             10 non-null object\n",
      "month_lag               10 non-null int64\n",
      "purchase_amount         10 non-null float64\n",
      "purchase_date           10 non-null object\n",
      "category_2              10 non-null float64\n",
      "state_id                10 non-null int64\n",
      "subsector_id            10 non-null int64\n",
      "dtypes: float64(2), int64(6), object(6)\n",
      "memory usage: 1.2+ KB\n"
     ]
    }
   ],
   "source": [
    "df_hist.info()"
   ]
  },
  {
   "cell_type": "code",
   "execution_count": 12,
   "metadata": {},
   "outputs": [
    {
     "name": "stdout",
     "output_type": "stream",
     "text": [
      "<class 'pandas.core.frame.DataFrame'>\n",
      "RangeIndex: 10 entries, 0 to 9\n",
      "Data columns (total 14 columns):\n",
      "authorized_flag         10 non-null object\n",
      "card_id                 10 non-null object\n",
      "city_id                 10 non-null int64\n",
      "category_1              10 non-null object\n",
      "installments            10 non-null int64\n",
      "category_3              10 non-null object\n",
      "merchant_category_id    10 non-null int64\n",
      "merchant_id             10 non-null object\n",
      "month_lag               10 non-null int64\n",
      "purchase_amount         10 non-null float64\n",
      "purchase_date           10 non-null object\n",
      "category_2              8 non-null float64\n",
      "state_id                10 non-null int64\n",
      "subsector_id            10 non-null int64\n",
      "dtypes: float64(2), int64(6), object(6)\n",
      "memory usage: 1.2+ KB\n"
     ]
    }
   ],
   "source": [
    "df_new.info()"
   ]
  },
  {
   "cell_type": "code",
   "execution_count": 13,
   "metadata": {},
   "outputs": [
    {
     "data": {
      "text/html": [
       "<div>\n",
       "<style scoped>\n",
       "    .dataframe tbody tr th:only-of-type {\n",
       "        vertical-align: middle;\n",
       "    }\n",
       "\n",
       "    .dataframe tbody tr th {\n",
       "        vertical-align: top;\n",
       "    }\n",
       "\n",
       "    .dataframe thead th {\n",
       "        text-align: right;\n",
       "    }\n",
       "</style>\n",
       "<table border=\"1\" class=\"dataframe\">\n",
       "  <thead>\n",
       "    <tr style=\"text-align: right;\">\n",
       "      <th></th>\n",
       "      <th>authorized_flag</th>\n",
       "      <th>card_id</th>\n",
       "      <th>category_1</th>\n",
       "      <th>category_3</th>\n",
       "      <th>merchant_id</th>\n",
       "      <th>purchase_date</th>\n",
       "    </tr>\n",
       "  </thead>\n",
       "  <tbody>\n",
       "    <tr>\n",
       "      <th>0</th>\n",
       "      <td>Y</td>\n",
       "      <td>C_ID_4e6213e9bc</td>\n",
       "      <td>N</td>\n",
       "      <td>A</td>\n",
       "      <td>M_ID_e020e9b302</td>\n",
       "      <td>2017-06-25 15:33:07</td>\n",
       "    </tr>\n",
       "    <tr>\n",
       "      <th>1</th>\n",
       "      <td>Y</td>\n",
       "      <td>C_ID_4e6213e9bc</td>\n",
       "      <td>N</td>\n",
       "      <td>A</td>\n",
       "      <td>M_ID_86ec983688</td>\n",
       "      <td>2017-07-15 12:10:45</td>\n",
       "    </tr>\n",
       "    <tr>\n",
       "      <th>2</th>\n",
       "      <td>Y</td>\n",
       "      <td>C_ID_4e6213e9bc</td>\n",
       "      <td>N</td>\n",
       "      <td>A</td>\n",
       "      <td>M_ID_979ed661fc</td>\n",
       "      <td>2017-08-09 22:04:29</td>\n",
       "    </tr>\n",
       "    <tr>\n",
       "      <th>3</th>\n",
       "      <td>Y</td>\n",
       "      <td>C_ID_4e6213e9bc</td>\n",
       "      <td>N</td>\n",
       "      <td>A</td>\n",
       "      <td>M_ID_e6d5ae8ea6</td>\n",
       "      <td>2017-09-02 10:06:26</td>\n",
       "    </tr>\n",
       "    <tr>\n",
       "      <th>4</th>\n",
       "      <td>Y</td>\n",
       "      <td>C_ID_4e6213e9bc</td>\n",
       "      <td>N</td>\n",
       "      <td>A</td>\n",
       "      <td>M_ID_e020e9b302</td>\n",
       "      <td>2017-03-10 01:14:19</td>\n",
       "    </tr>\n",
       "  </tbody>\n",
       "</table>\n",
       "</div>"
      ],
      "text/plain": [
       "  authorized_flag          card_id category_1 category_3      merchant_id  \\\n",
       "0               Y  C_ID_4e6213e9bc          N          A  M_ID_e020e9b302   \n",
       "1               Y  C_ID_4e6213e9bc          N          A  M_ID_86ec983688   \n",
       "2               Y  C_ID_4e6213e9bc          N          A  M_ID_979ed661fc   \n",
       "3               Y  C_ID_4e6213e9bc          N          A  M_ID_e6d5ae8ea6   \n",
       "4               Y  C_ID_4e6213e9bc          N          A  M_ID_e020e9b302   \n",
       "\n",
       "         purchase_date  \n",
       "0  2017-06-25 15:33:07  \n",
       "1  2017-07-15 12:10:45  \n",
       "2  2017-08-09 22:04:29  \n",
       "3  2017-09-02 10:06:26  \n",
       "4  2017-03-10 01:14:19  "
      ]
     },
     "execution_count": 13,
     "metadata": {},
     "output_type": "execute_result"
    }
   ],
   "source": [
    "df_hist[['authorized_flag', 'card_id', 'category_1', 'category_3', 'merchant_id',\n",
    "        'purchase_date']].head(5)"
   ]
  },
  {
   "cell_type": "markdown",
   "metadata": {},
   "source": [
    "**NOTE:** \n",
    "- `card_id` and `mechant_id` is index\n",
    "- `purchase_date` should be converted to date type\n",
    "-  `authorized_flag`, `category_1`, `category_3` are categories or booleans, need to check"
   ]
  },
  {
   "cell_type": "markdown",
   "metadata": {},
   "source": [
    "### Merchant data"
   ]
  },
  {
   "cell_type": "code",
   "execution_count": 14,
   "metadata": {},
   "outputs": [
    {
     "data": {
      "text/plain": [
       "['merchant_id',\n",
       " 'merchant_group_id',\n",
       " 'merchant_category_id',\n",
       " 'subsector_id',\n",
       " 'numerical_1',\n",
       " 'numerical_2',\n",
       " 'category_1',\n",
       " 'most_recent_sales_range',\n",
       " 'most_recent_purchases_range',\n",
       " 'avg_sales_lag3',\n",
       " 'avg_purchases_lag3',\n",
       " 'active_months_lag3',\n",
       " 'avg_sales_lag6',\n",
       " 'avg_purchases_lag6',\n",
       " 'active_months_lag6',\n",
       " 'avg_sales_lag12',\n",
       " 'avg_purchases_lag12',\n",
       " 'active_months_lag12',\n",
       " 'category_4',\n",
       " 'city_id',\n",
       " 'state_id',\n",
       " 'category_2']"
      ]
     },
     "execution_count": 14,
     "metadata": {},
     "output_type": "execute_result"
    }
   ],
   "source": [
    "df_merchants = pd.read_csv(f'{PATH}merchants.csv', nrows=10); df_merchants.columns.tolist()"
   ]
  },
  {
   "cell_type": "code",
   "execution_count": 15,
   "metadata": {},
   "outputs": [
    {
     "name": "stdout",
     "output_type": "stream",
     "text": [
      "<class 'pandas.core.frame.DataFrame'>\n",
      "RangeIndex: 10 entries, 0 to 9\n",
      "Data columns (total 22 columns):\n",
      "merchant_id                    10 non-null object\n",
      "merchant_group_id              10 non-null int64\n",
      "merchant_category_id           10 non-null int64\n",
      "subsector_id                   10 non-null int64\n",
      "numerical_1                    10 non-null float64\n",
      "numerical_2                    10 non-null float64\n",
      "category_1                     10 non-null object\n",
      "most_recent_sales_range        10 non-null object\n",
      "most_recent_purchases_range    10 non-null object\n",
      "avg_sales_lag3                 3 non-null float64\n",
      "avg_purchases_lag3             10 non-null float64\n",
      "active_months_lag3             10 non-null int64\n",
      "avg_sales_lag6                 3 non-null float64\n",
      "avg_purchases_lag6             10 non-null float64\n",
      "active_months_lag6             10 non-null int64\n",
      "avg_sales_lag12                3 non-null float64\n",
      "avg_purchases_lag12            10 non-null float64\n",
      "active_months_lag12            10 non-null int64\n",
      "category_4                     10 non-null object\n",
      "city_id                        10 non-null int64\n",
      "state_id                       10 non-null int64\n",
      "category_2                     6 non-null float64\n",
      "dtypes: float64(9), int64(8), object(5)\n",
      "memory usage: 1.8+ KB\n"
     ]
    }
   ],
   "source": [
    "df_merchants.info()"
   ]
  },
  {
   "cell_type": "code",
   "execution_count": 16,
   "metadata": {},
   "outputs": [
    {
     "data": {
      "text/html": [
       "<div>\n",
       "<style scoped>\n",
       "    .dataframe tbody tr th:only-of-type {\n",
       "        vertical-align: middle;\n",
       "    }\n",
       "\n",
       "    .dataframe tbody tr th {\n",
       "        vertical-align: top;\n",
       "    }\n",
       "\n",
       "    .dataframe thead th {\n",
       "        text-align: right;\n",
       "    }\n",
       "</style>\n",
       "<table border=\"1\" class=\"dataframe\">\n",
       "  <thead>\n",
       "    <tr style=\"text-align: right;\">\n",
       "      <th></th>\n",
       "      <th>merchant_id</th>\n",
       "      <th>category_1</th>\n",
       "      <th>most_recent_sales_range</th>\n",
       "      <th>most_recent_purchases_range</th>\n",
       "      <th>category_4</th>\n",
       "    </tr>\n",
       "  </thead>\n",
       "  <tbody>\n",
       "    <tr>\n",
       "      <th>0</th>\n",
       "      <td>M_ID_838061e48c</td>\n",
       "      <td>N</td>\n",
       "      <td>E</td>\n",
       "      <td>E</td>\n",
       "      <td>N</td>\n",
       "    </tr>\n",
       "    <tr>\n",
       "      <th>1</th>\n",
       "      <td>M_ID_9339d880ad</td>\n",
       "      <td>N</td>\n",
       "      <td>E</td>\n",
       "      <td>E</td>\n",
       "      <td>N</td>\n",
       "    </tr>\n",
       "    <tr>\n",
       "      <th>2</th>\n",
       "      <td>M_ID_e726bbae1e</td>\n",
       "      <td>N</td>\n",
       "      <td>E</td>\n",
       "      <td>E</td>\n",
       "      <td>N</td>\n",
       "    </tr>\n",
       "    <tr>\n",
       "      <th>3</th>\n",
       "      <td>M_ID_a70e9c5f81</td>\n",
       "      <td>Y</td>\n",
       "      <td>E</td>\n",
       "      <td>E</td>\n",
       "      <td>Y</td>\n",
       "    </tr>\n",
       "    <tr>\n",
       "      <th>4</th>\n",
       "      <td>M_ID_64456c37ce</td>\n",
       "      <td>Y</td>\n",
       "      <td>E</td>\n",
       "      <td>E</td>\n",
       "      <td>Y</td>\n",
       "    </tr>\n",
       "  </tbody>\n",
       "</table>\n",
       "</div>"
      ],
      "text/plain": [
       "       merchant_id category_1 most_recent_sales_range  \\\n",
       "0  M_ID_838061e48c          N                       E   \n",
       "1  M_ID_9339d880ad          N                       E   \n",
       "2  M_ID_e726bbae1e          N                       E   \n",
       "3  M_ID_a70e9c5f81          Y                       E   \n",
       "4  M_ID_64456c37ce          Y                       E   \n",
       "\n",
       "  most_recent_purchases_range category_4  \n",
       "0                           E          N  \n",
       "1                           E          N  \n",
       "2                           E          N  \n",
       "3                           E          Y  \n",
       "4                           E          Y  "
      ]
     },
     "execution_count": 16,
     "metadata": {},
     "output_type": "execute_result"
    }
   ],
   "source": [
    "df_merchants[['merchant_id', 'category_1', 'most_recent_sales_range',\n",
    "        'most_recent_purchases_range', 'category_4']].head(5)"
   ]
  },
  {
   "cell_type": "markdown",
   "metadata": {},
   "source": [
    "**NOTE:** \n",
    "- `mechant_id` is index\n",
    "- `category_1`, `category_4`, `most_recent_sales_range`, `most_recent_purchases_range` are categories or booleans, need to check"
   ]
  },
  {
   "cell_type": "markdown",
   "metadata": {},
   "source": [
    "### Joins"
   ]
  },
  {
   "cell_type": "markdown",
   "metadata": {},
   "source": [
    "There's essentially 3 different structures of tables. How do they join?"
   ]
  },
  {
   "cell_type": "code",
   "execution_count": 17,
   "metadata": {},
   "outputs": [],
   "source": [
    "def intersection(lst1, lst2): \n",
    "    return list(set(lst1.columns.tolist()).intersection(set(lst2.columns.tolist())))"
   ]
  },
  {
   "cell_type": "code",
   "execution_count": 18,
   "metadata": {},
   "outputs": [
    {
     "data": {
      "text/plain": [
       "['card_id']"
      ]
     },
     "execution_count": 18,
     "metadata": {},
     "output_type": "execute_result"
    }
   ],
   "source": [
    "intersection(df_train, df_new)"
   ]
  },
  {
   "cell_type": "code",
   "execution_count": 19,
   "metadata": {},
   "outputs": [
    {
     "data": {
      "text/plain": [
       "[]"
      ]
     },
     "execution_count": 19,
     "metadata": {},
     "output_type": "execute_result"
    }
   ],
   "source": [
    "intersection(df_train, df_merchants)"
   ]
  },
  {
   "cell_type": "code",
   "execution_count": 20,
   "metadata": {},
   "outputs": [
    {
     "data": {
      "text/plain": [
       "['category_1',\n",
       " 'state_id',\n",
       " 'merchant_id',\n",
       " 'category_2',\n",
       " 'subsector_id',\n",
       " 'city_id',\n",
       " 'merchant_category_id']"
      ]
     },
     "execution_count": 20,
     "metadata": {},
     "output_type": "execute_result"
    }
   ],
   "source": [
    "intersection(df_new, df_merchants)"
   ]
  },
  {
   "cell_type": "code",
   "execution_count": 21,
   "metadata": {},
   "outputs": [],
   "source": [
    "def merge_dfs(df_1, df_2):\n",
    "    merge_cols = intersection(df_1, df_2)\n",
    "    return df_1.merge(df_2, on=merge_cols, how='inner')"
   ]
  },
  {
   "cell_type": "code",
   "execution_count": 22,
   "metadata": {},
   "outputs": [
    {
     "data": {
      "text/plain": [
       "['authorized_flag',\n",
       " 'card_id',\n",
       " 'city_id',\n",
       " 'category_1',\n",
       " 'installments',\n",
       " 'category_3',\n",
       " 'merchant_category_id',\n",
       " 'merchant_id',\n",
       " 'month_lag',\n",
       " 'purchase_amount',\n",
       " 'purchase_date',\n",
       " 'category_2',\n",
       " 'state_id',\n",
       " 'subsector_id',\n",
       " 'merchant_group_id',\n",
       " 'numerical_1',\n",
       " 'numerical_2',\n",
       " 'most_recent_sales_range',\n",
       " 'most_recent_purchases_range',\n",
       " 'avg_sales_lag3',\n",
       " 'avg_purchases_lag3',\n",
       " 'active_months_lag3',\n",
       " 'avg_sales_lag6',\n",
       " 'avg_purchases_lag6',\n",
       " 'active_months_lag6',\n",
       " 'avg_sales_lag12',\n",
       " 'avg_purchases_lag12',\n",
       " 'active_months_lag12',\n",
       " 'category_4']"
      ]
     },
     "execution_count": 22,
     "metadata": {},
     "output_type": "execute_result"
    }
   ],
   "source": [
    "df_merch_join = merge_dfs(df_new, df_merchants); df_merch_join.columns.tolist()"
   ]
  },
  {
   "cell_type": "code",
   "execution_count": 23,
   "metadata": {},
   "outputs": [
    {
     "data": {
      "text/plain": [
       "['authorized_flag',\n",
       " 'city_id',\n",
       " 'category_1',\n",
       " 'installments',\n",
       " 'category_3',\n",
       " 'merchant_category_id',\n",
       " 'merchant_id',\n",
       " 'month_lag',\n",
       " 'purchase_amount',\n",
       " 'purchase_date',\n",
       " 'category_2',\n",
       " 'state_id',\n",
       " 'subsector_id',\n",
       " 'merchant_group_id',\n",
       " 'numerical_1',\n",
       " 'numerical_2',\n",
       " 'most_recent_sales_range',\n",
       " 'most_recent_purchases_range',\n",
       " 'avg_sales_lag3',\n",
       " 'avg_purchases_lag3',\n",
       " 'active_months_lag3',\n",
       " 'avg_sales_lag6',\n",
       " 'avg_purchases_lag6',\n",
       " 'active_months_lag6',\n",
       " 'avg_sales_lag12',\n",
       " 'avg_purchases_lag12',\n",
       " 'active_months_lag12',\n",
       " 'category_4',\n",
       " 'first_active_month',\n",
       " 'card_id',\n",
       " 'feature_1',\n",
       " 'feature_2',\n",
       " 'feature_3',\n",
       " 'target']"
      ]
     },
     "execution_count": 23,
     "metadata": {},
     "output_type": "execute_result"
    }
   ],
   "source": [
    "df_join_all = merge_dfs(df_merch_join, df_train); df_join_all.columns.tolist()"
   ]
  },
  {
   "cell_type": "markdown",
   "metadata": {},
   "source": [
    "### Checking categories and ranges"
   ]
  },
  {
   "cell_type": "markdown",
   "metadata": {},
   "source": [
    "Transaction data (historical and new) is in large data files (over 100MB)."
   ]
  },
  {
   "cell_type": "code",
   "execution_count": 24,
   "metadata": {},
   "outputs": [
    {
     "name": "stdout",
     "output_type": "stream",
     "text": [
      "total 3.5G\r\n",
      "-rw-r--r-- 1 ubuntu ubuntu 2.7G Nov 23 21:10 historical_transactions.csv\r\n",
      "-rw-rw-r-- 1 ubuntu ubuntu 539M Dec  4 02:38 historical_transactions.csv.zip\r\n",
      "-rw-r--r-- 1 ubuntu ubuntu 182M Nov 23 21:10 new_merchant_transactions.csv\r\n",
      "-rw-rw-r-- 1 ubuntu ubuntu  49M Dec  4 02:38 new_merchant_transactions.csv.zip\r\n",
      "-rw-r--r-- 1 ubuntu ubuntu  48M Nov 23 21:10 merchants.csv\r\n",
      "-rw-rw-r-- 1 ubuntu ubuntu  13M Dec  4 02:38 merchants.csv.zip\r\n",
      "-rw-rw-r-- 1 ubuntu ubuntu 9.4M Dec  4 09:38 historical_transactions_100000.csv\r\n",
      "-rw-r--r-- 1 ubuntu ubuntu 8.0M Nov 23 21:10 train.csv\r\n",
      "-rw-r--r-- 1 ubuntu ubuntu 3.6M Nov 23 21:10 test.csv\r\n",
      "-rw-rw-r-- 1 ubuntu ubuntu 3.0M Dec  4 02:38 train.csv.zip\r\n",
      "-rw-rw-r-- 1 ubuntu ubuntu 1.9M Dec  9 06:39 historical_transactions_20000.csv\r\n",
      "-rw-rw-r-- 1 ubuntu ubuntu 1.9M Dec  9 07:49 new_merchant_transactions_20000.csv\r\n",
      "-rw-rw-r-- 1 ubuntu ubuntu 1.1M Dec  4 02:38 test.csv.zip\r\n",
      "-rw-rw-r-- 1 ubuntu ubuntu 839K Dec  4 02:38 sample_submission.csv.zip\r\n",
      "-rw-rw-r-- 1 ubuntu ubuntu  18K Dec  4 02:38 Data_Dictionary.xlsx\r\n"
     ]
    }
   ],
   "source": [
    "!ls -lhS {PATH}"
   ]
  },
  {
   "cell_type": "markdown",
   "metadata": {},
   "source": [
    "Reduce memory used when loading by detecting appropriate data types"
   ]
  },
  {
   "cell_type": "code",
   "execution_count": 25,
   "metadata": {},
   "outputs": [],
   "source": [
    "df_hist = pd.read_csv(f'{PATH}historical_transactions_100000.csv', parse_dates=['purchase_date'])"
   ]
  },
  {
   "cell_type": "code",
   "execution_count": 26,
   "metadata": {},
   "outputs": [
    {
     "name": "stdout",
     "output_type": "stream",
     "text": [
      "<class 'pandas.core.frame.DataFrame'>\n",
      "RangeIndex: 100000 entries, 0 to 99999\n",
      "Data columns (total 14 columns):\n",
      "authorized_flag         100000 non-null object\n",
      "card_id                 100000 non-null object\n",
      "city_id                 100000 non-null int64\n",
      "category_1              100000 non-null object\n",
      "installments            100000 non-null int64\n",
      "category_3              99399 non-null object\n",
      "merchant_category_id    100000 non-null int64\n",
      "merchant_id             99497 non-null object\n",
      "month_lag               100000 non-null int64\n",
      "purchase_amount         100000 non-null float64\n",
      "purchase_date           100000 non-null datetime64[ns]\n",
      "category_2              90923 non-null float64\n",
      "state_id                100000 non-null int64\n",
      "subsector_id            100000 non-null int64\n",
      "dtypes: datetime64[ns](1), float64(2), int64(6), object(5)\n",
      "memory usage: 39.4 MB\n"
     ]
    }
   ],
   "source": [
    "df_hist.info(memory_usage='deep')"
   ]
  },
  {
   "cell_type": "code",
   "execution_count": 27,
   "metadata": {},
   "outputs": [],
   "source": [
    "def mem_usage(pandas_obj):\n",
    "    if isinstance(pandas_obj,pd.DataFrame):\n",
    "        usage_b = pandas_obj.memory_usage(deep=True).sum()\n",
    "    else: # we assume if not a df it's a series\n",
    "        usage_b = pandas_obj.memory_usage(deep=True)\n",
    "    usage_mb = usage_b / 1024 ** 2 # convert bytes to megabytes\n",
    "    return \"{:03.2f} MB\".format(usage_mb)"
   ]
  },
  {
   "cell_type": "code",
   "execution_count": 28,
   "metadata": {},
   "outputs": [
    {
     "data": {
      "text/plain": [
       "'39.44 MB'"
      ]
     },
     "execution_count": 28,
     "metadata": {},
     "output_type": "execute_result"
    }
   ],
   "source": [
    "mem_usage(df_hist)"
   ]
  },
  {
   "cell_type": "code",
   "execution_count": 29,
   "metadata": {},
   "outputs": [],
   "source": [
    "def downcast_int(df):\n",
    "    df_int = df.select_dtypes(include=['int'])\n",
    "    converted_int = df_int.apply(pd.to_numeric, downcast='integer')\n",
    "\n",
    "    print(mem_usage(df_int))\n",
    "    print(mem_usage(converted_int))\n",
    "\n",
    "    compare_ints = pd.concat([df_int.dtypes, converted_int.dtypes], axis=1)\n",
    "    compare_ints.columns = ['before', 'after']\n",
    "    print(compare_ints.apply(pd.Series.value_counts))\n",
    "    \n",
    "    return converted_int"
   ]
  },
  {
   "cell_type": "code",
   "execution_count": 30,
   "metadata": {},
   "outputs": [
    {
     "name": "stdout",
     "output_type": "stream",
     "text": [
      "4.58 MB\n",
      "0.76 MB\n",
      "       before  after\n",
      "int8      NaN    4.0\n",
      "int16     NaN    2.0\n",
      "int64     6.0    NaN\n"
     ]
    }
   ],
   "source": [
    "converted_int = downcast_int(df_hist)"
   ]
  },
  {
   "cell_type": "code",
   "execution_count": 31,
   "metadata": {},
   "outputs": [],
   "source": [
    "def downcast_float(df):\n",
    "    df_float = df.select_dtypes(include=['float'])\n",
    "    converted_float = df_float.apply(pd.to_numeric, downcast='float')\n",
    "\n",
    "    print(mem_usage(df_float))\n",
    "    print(mem_usage(converted_float))\n",
    "\n",
    "    compare_floats = pd.concat([df_float.dtypes, converted_float.dtypes],axis=1)\n",
    "    compare_floats.columns = ['before','after']\n",
    "    print(compare_floats.apply(pd.Series.value_counts))\n",
    "    \n",
    "    return converted_float"
   ]
  },
  {
   "cell_type": "code",
   "execution_count": 32,
   "metadata": {},
   "outputs": [
    {
     "name": "stdout",
     "output_type": "stream",
     "text": [
      "1.53 MB\n",
      "0.76 MB\n",
      "         before  after\n",
      "float32     NaN    2.0\n",
      "float64     2.0    NaN\n"
     ]
    }
   ],
   "source": [
    "converted_float = downcast_float(df_hist)"
   ]
  },
  {
   "cell_type": "code",
   "execution_count": 33,
   "metadata": {},
   "outputs": [
    {
     "data": {
      "text/html": [
       "<div>\n",
       "<style scoped>\n",
       "    .dataframe tbody tr th:only-of-type {\n",
       "        vertical-align: middle;\n",
       "    }\n",
       "\n",
       "    .dataframe tbody tr th {\n",
       "        vertical-align: top;\n",
       "    }\n",
       "\n",
       "    .dataframe thead th {\n",
       "        text-align: right;\n",
       "    }\n",
       "</style>\n",
       "<table border=\"1\" class=\"dataframe\">\n",
       "  <thead>\n",
       "    <tr style=\"text-align: right;\">\n",
       "      <th></th>\n",
       "      <th>authorized_flag</th>\n",
       "      <th>card_id</th>\n",
       "      <th>category_1</th>\n",
       "      <th>category_3</th>\n",
       "      <th>merchant_id</th>\n",
       "    </tr>\n",
       "  </thead>\n",
       "  <tbody>\n",
       "    <tr>\n",
       "      <th>count</th>\n",
       "      <td>100000</td>\n",
       "      <td>100000</td>\n",
       "      <td>100000</td>\n",
       "      <td>99399</td>\n",
       "      <td>99497</td>\n",
       "    </tr>\n",
       "    <tr>\n",
       "      <th>unique</th>\n",
       "      <td>2</td>\n",
       "      <td>74599</td>\n",
       "      <td>2</td>\n",
       "      <td>3</td>\n",
       "      <td>41500</td>\n",
       "    </tr>\n",
       "    <tr>\n",
       "      <th>top</th>\n",
       "      <td>Y</td>\n",
       "      <td>C_ID_3d3dfdc692</td>\n",
       "      <td>N</td>\n",
       "      <td>A</td>\n",
       "      <td>M_ID_00a6ca8a8a</td>\n",
       "    </tr>\n",
       "    <tr>\n",
       "      <th>freq</th>\n",
       "      <td>91436</td>\n",
       "      <td>21</td>\n",
       "      <td>92911</td>\n",
       "      <td>52778</td>\n",
       "      <td>3747</td>\n",
       "    </tr>\n",
       "  </tbody>\n",
       "</table>\n",
       "</div>"
      ],
      "text/plain": [
       "       authorized_flag          card_id category_1 category_3      merchant_id\n",
       "count           100000           100000     100000      99399            99497\n",
       "unique               2            74599          2          3            41500\n",
       "top                  Y  C_ID_3d3dfdc692          N          A  M_ID_00a6ca8a8a\n",
       "freq             91436               21      92911      52778             3747"
      ]
     },
     "execution_count": 33,
     "metadata": {},
     "output_type": "execute_result"
    }
   ],
   "source": [
    "df_obj = df_hist.select_dtypes(include=['object']).copy()\n",
    "df_obj.describe()"
   ]
  },
  {
   "cell_type": "code",
   "execution_count": 34,
   "metadata": {},
   "outputs": [
    {
     "data": {
      "text/plain": [
       "0    Y\n",
       "1    N\n",
       "2    Y\n",
       "3    Y\n",
       "4    Y\n",
       "Name: authorized_flag, dtype: object"
      ]
     },
     "execution_count": 34,
     "metadata": {},
     "output_type": "execute_result"
    }
   ],
   "source": [
    "df_hist.authorized_flag.head()"
   ]
  },
  {
   "cell_type": "markdown",
   "metadata": {},
   "source": [
    "Convert to category first then some can be converted to boolean"
   ]
  },
  {
   "cell_type": "code",
   "execution_count": 35,
   "metadata": {},
   "outputs": [
    {
     "name": "stdout",
     "output_type": "stream",
     "text": [
      "6.29 MB\n",
      "0.10 MB\n"
     ]
    }
   ],
   "source": [
    "print(mem_usage(df_hist.authorized_flag))\n",
    "df_hist.authorized_flag = df_hist.authorized_flag.astype('category')\n",
    "print(mem_usage(df_hist.authorized_flag))"
   ]
  },
  {
   "cell_type": "markdown",
   "metadata": {},
   "source": [
    "Boolean adds no benefits over category type"
   ]
  },
  {
   "cell_type": "markdown",
   "metadata": {},
   "source": [
    "We should stick to using the category type primarily for object columns where less than 50% of the values are unique. This function will check for unique values:"
   ]
  },
  {
   "cell_type": "code",
   "execution_count": 36,
   "metadata": {},
   "outputs": [],
   "source": [
    "def get_unique_vals(df): \n",
    "    df_obj = df.select_dtypes(include=['object']).copy()\n",
    "    converted_obj = pd.DataFrame()\n",
    "\n",
    "    for col in df_obj.columns:\n",
    "        num_unique_values = len(df_obj[col].unique())\n",
    "        num_total_values = len(df_obj[col])\n",
    "        if num_unique_values / num_total_values < 0.5:\n",
    "            converted_obj.loc[:,col] = df_obj[col].astype('category')\n",
    "        else:\n",
    "            converted_obj.loc[:,col] = df_obj[col]\n",
    "    \n",
    "    return converted_obj"
   ]
  },
  {
   "cell_type": "code",
   "execution_count": 37,
   "metadata": {},
   "outputs": [
    {
     "name": "stdout",
     "output_type": "stream",
     "text": [
      "<class 'pandas.core.frame.DataFrame'>\n",
      "RangeIndex: 100000 entries, 0 to 99999\n",
      "Data columns (total 4 columns):\n",
      "card_id        100000 non-null object\n",
      "category_1     100000 non-null category\n",
      "category_3     99399 non-null category\n",
      "merchant_id    99497 non-null category\n",
      "dtypes: category(3), object(1)\n",
      "memory usage: 2.9+ MB\n"
     ]
    }
   ],
   "source": [
    "converted_obj = get_unique_vals(df_hist)\n",
    "converted_obj.info()"
   ]
  },
  {
   "cell_type": "code",
   "execution_count": 38,
   "metadata": {},
   "outputs": [
    {
     "name": "stdout",
     "output_type": "stream",
     "text": [
      "33.24 MB\n",
      "11.54 MB\n"
     ]
    },
    {
     "data": {
      "text/html": [
       "<div>\n",
       "<style scoped>\n",
       "    .dataframe tbody tr th:only-of-type {\n",
       "        vertical-align: middle;\n",
       "    }\n",
       "\n",
       "    .dataframe tbody tr th {\n",
       "        vertical-align: top;\n",
       "    }\n",
       "\n",
       "    .dataframe thead th {\n",
       "        text-align: right;\n",
       "    }\n",
       "</style>\n",
       "<table border=\"1\" class=\"dataframe\">\n",
       "  <thead>\n",
       "    <tr style=\"text-align: right;\">\n",
       "      <th></th>\n",
       "      <th>before</th>\n",
       "      <th>after</th>\n",
       "    </tr>\n",
       "  </thead>\n",
       "  <tbody>\n",
       "    <tr>\n",
       "      <th>int64</th>\n",
       "      <td>6.0</td>\n",
       "      <td>NaN</td>\n",
       "    </tr>\n",
       "    <tr>\n",
       "      <th>float64</th>\n",
       "      <td>2.0</td>\n",
       "      <td>NaN</td>\n",
       "    </tr>\n",
       "    <tr>\n",
       "      <th>datetime64[ns]</th>\n",
       "      <td>1.0</td>\n",
       "      <td>NaN</td>\n",
       "    </tr>\n",
       "    <tr>\n",
       "      <th>object</th>\n",
       "      <td>4.0</td>\n",
       "      <td>1.0</td>\n",
       "    </tr>\n",
       "    <tr>\n",
       "      <th>category</th>\n",
       "      <td>1.0</td>\n",
       "      <td>1.0</td>\n",
       "    </tr>\n",
       "    <tr>\n",
       "      <th>category</th>\n",
       "      <td>NaN</td>\n",
       "      <td>1.0</td>\n",
       "    </tr>\n",
       "    <tr>\n",
       "      <th>category</th>\n",
       "      <td>NaN</td>\n",
       "      <td>1.0</td>\n",
       "    </tr>\n",
       "  </tbody>\n",
       "</table>\n",
       "</div>"
      ],
      "text/plain": [
       "                before  after\n",
       "int64              6.0    NaN\n",
       "float64            2.0    NaN\n",
       "datetime64[ns]     1.0    NaN\n",
       "object             4.0    1.0\n",
       "category           1.0    1.0\n",
       "category           NaN    1.0\n",
       "category           NaN    1.0"
      ]
     },
     "execution_count": 38,
     "metadata": {},
     "output_type": "execute_result"
    }
   ],
   "source": [
    "print(mem_usage(df_hist))\n",
    "print(mem_usage(converted_obj))\n",
    "\n",
    "compare_obj = pd.concat([df_hist.dtypes, converted_obj.dtypes], axis=1, sort=False)\n",
    "compare_obj.columns = ['before','after']\n",
    "compare_obj.apply(pd.Series.value_counts)"
   ]
  },
  {
   "cell_type": "markdown",
   "metadata": {},
   "source": [
    "### Loading using detected data types"
   ]
  },
  {
   "cell_type": "code",
   "execution_count": 39,
   "metadata": {},
   "outputs": [],
   "source": [
    "optimized_df = df_hist.copy()\n",
    "optimized_df[converted_int.columns] = converted_int\n",
    "optimized_df[converted_float.columns] = converted_float\n",
    "optimized_df[converted_obj.columns] = converted_obj"
   ]
  },
  {
   "cell_type": "code",
   "execution_count": 40,
   "metadata": {},
   "outputs": [],
   "source": [
    "optimized_df.set_index('card_id', inplace=True)"
   ]
  },
  {
   "cell_type": "code",
   "execution_count": 41,
   "metadata": {},
   "outputs": [
    {
     "name": "stdout",
     "output_type": "stream",
     "text": [
      "33.24 MB\n",
      "13.92 MB\n"
     ]
    }
   ],
   "source": [
    "print(mem_usage(df_hist))\n",
    "print(mem_usage(optimized_df))"
   ]
  },
  {
   "cell_type": "code",
   "execution_count": 42,
   "metadata": {},
   "outputs": [
    {
     "name": "stdout",
     "output_type": "stream",
     "text": [
      "<class 'pandas.core.frame.DataFrame'>\n",
      "Index: 100000 entries, C_ID_27a5b515bc to C_ID_e9638cd765\n",
      "Data columns (total 13 columns):\n",
      "authorized_flag         100000 non-null category\n",
      "city_id                 100000 non-null int16\n",
      "category_1              100000 non-null category\n",
      "installments            100000 non-null int8\n",
      "category_3              99399 non-null category\n",
      "merchant_category_id    100000 non-null int16\n",
      "merchant_id             99497 non-null category\n",
      "month_lag               100000 non-null int8\n",
      "purchase_amount         100000 non-null float32\n",
      "purchase_date           100000 non-null datetime64[ns]\n",
      "category_2              90923 non-null float32\n",
      "state_id                100000 non-null int8\n",
      "subsector_id            100000 non-null int8\n",
      "dtypes: category(4), datetime64[ns](1), float32(2), int16(2), int8(4)\n",
      "memory usage: 5.3+ MB\n"
     ]
    }
   ],
   "source": [
    "optimized_df.info()"
   ]
  },
  {
   "cell_type": "code",
   "execution_count": 43,
   "metadata": {},
   "outputs": [
    {
     "name": "stdout",
     "output_type": "stream",
     "text": [
      "{   'authorized_flag': 'category',\n",
      "    'category_1': 'category',\n",
      "    'category_2': 'float32',\n",
      "    'category_3': 'category',\n",
      "    'city_id': 'int16',\n",
      "    'installments': 'int8',\n",
      "    'merchant_category_id': 'int16',\n",
      "    'merchant_id': 'category',\n",
      "    'month_lag': 'int8',\n",
      "    'purchase_amount': 'float32'}\n"
     ]
    }
   ],
   "source": [
    "dtypes = optimized_df.drop('purchase_date',axis=1).dtypes\n",
    "\n",
    "dtypes_col = dtypes.index\n",
    "dtypes_type = [i.name for i in dtypes.values]\n",
    "\n",
    "column_types = dict(zip(dtypes_col, dtypes_type))\n",
    "\n",
    "preview = first2pairs = {key:value for key,value in list(column_types.items())[:10]}\n",
    "import pprint\n",
    "pp = pp = pprint.PrettyPrinter(indent=4)\n",
    "pp.pprint(preview)"
   ]
  },
  {
   "cell_type": "code",
   "execution_count": 44,
   "metadata": {},
   "outputs": [
    {
     "name": "stdout",
     "output_type": "stream",
     "text": [
      "899.54 MB\n"
     ]
    }
   ],
   "source": [
    "df_new = pd.read_csv(f'{PATH}new_merchant_transactions.csv')\n",
    "print(mem_usage(df_new))"
   ]
  },
  {
   "cell_type": "code",
   "execution_count": 45,
   "metadata": {},
   "outputs": [
    {
     "name": "stdout",
     "output_type": "stream",
     "text": [
      "218.35 MB\n"
     ]
    },
    {
     "data": {
      "text/html": [
       "<div>\n",
       "<style scoped>\n",
       "    .dataframe tbody tr th:only-of-type {\n",
       "        vertical-align: middle;\n",
       "    }\n",
       "\n",
       "    .dataframe tbody tr th {\n",
       "        vertical-align: top;\n",
       "    }\n",
       "\n",
       "    .dataframe thead th {\n",
       "        text-align: right;\n",
       "    }\n",
       "</style>\n",
       "<table border=\"1\" class=\"dataframe\">\n",
       "  <thead>\n",
       "    <tr style=\"text-align: right;\">\n",
       "      <th></th>\n",
       "      <th>authorized_flag</th>\n",
       "      <th>card_id</th>\n",
       "      <th>city_id</th>\n",
       "      <th>category_1</th>\n",
       "      <th>installments</th>\n",
       "      <th>category_3</th>\n",
       "      <th>merchant_category_id</th>\n",
       "      <th>merchant_id</th>\n",
       "      <th>month_lag</th>\n",
       "      <th>purchase_amount</th>\n",
       "      <th>purchase_date</th>\n",
       "      <th>category_2</th>\n",
       "      <th>state_id</th>\n",
       "      <th>subsector_id</th>\n",
       "    </tr>\n",
       "  </thead>\n",
       "  <tbody>\n",
       "    <tr>\n",
       "      <th>0</th>\n",
       "      <td>Y</td>\n",
       "      <td>C_ID_415bb3a509</td>\n",
       "      <td>107</td>\n",
       "      <td>N</td>\n",
       "      <td>1</td>\n",
       "      <td>B</td>\n",
       "      <td>307</td>\n",
       "      <td>M_ID_b0c793002c</td>\n",
       "      <td>1</td>\n",
       "      <td>-0.557574</td>\n",
       "      <td>2018-03-11 14:57:36</td>\n",
       "      <td>1.0</td>\n",
       "      <td>9</td>\n",
       "      <td>19</td>\n",
       "    </tr>\n",
       "    <tr>\n",
       "      <th>1</th>\n",
       "      <td>Y</td>\n",
       "      <td>C_ID_415bb3a509</td>\n",
       "      <td>140</td>\n",
       "      <td>N</td>\n",
       "      <td>1</td>\n",
       "      <td>B</td>\n",
       "      <td>307</td>\n",
       "      <td>M_ID_88920c89e8</td>\n",
       "      <td>1</td>\n",
       "      <td>-0.569580</td>\n",
       "      <td>2018-03-19 18:53:37</td>\n",
       "      <td>1.0</td>\n",
       "      <td>9</td>\n",
       "      <td>19</td>\n",
       "    </tr>\n",
       "    <tr>\n",
       "      <th>2</th>\n",
       "      <td>Y</td>\n",
       "      <td>C_ID_415bb3a509</td>\n",
       "      <td>330</td>\n",
       "      <td>N</td>\n",
       "      <td>1</td>\n",
       "      <td>B</td>\n",
       "      <td>507</td>\n",
       "      <td>M_ID_ad5237ef6b</td>\n",
       "      <td>2</td>\n",
       "      <td>-0.551037</td>\n",
       "      <td>2018-04-26 14:08:44</td>\n",
       "      <td>1.0</td>\n",
       "      <td>9</td>\n",
       "      <td>14</td>\n",
       "    </tr>\n",
       "    <tr>\n",
       "      <th>3</th>\n",
       "      <td>Y</td>\n",
       "      <td>C_ID_415bb3a509</td>\n",
       "      <td>-1</td>\n",
       "      <td>Y</td>\n",
       "      <td>1</td>\n",
       "      <td>B</td>\n",
       "      <td>661</td>\n",
       "      <td>M_ID_9e84cda3b1</td>\n",
       "      <td>1</td>\n",
       "      <td>-0.671925</td>\n",
       "      <td>2018-03-07 09:43:21</td>\n",
       "      <td>NaN</td>\n",
       "      <td>-1</td>\n",
       "      <td>8</td>\n",
       "    </tr>\n",
       "    <tr>\n",
       "      <th>4</th>\n",
       "      <td>Y</td>\n",
       "      <td>C_ID_ef55cf8d4b</td>\n",
       "      <td>-1</td>\n",
       "      <td>Y</td>\n",
       "      <td>1</td>\n",
       "      <td>B</td>\n",
       "      <td>166</td>\n",
       "      <td>M_ID_3c86fa3831</td>\n",
       "      <td>1</td>\n",
       "      <td>-0.659904</td>\n",
       "      <td>2018-03-22 21:07:53</td>\n",
       "      <td>NaN</td>\n",
       "      <td>-1</td>\n",
       "      <td>29</td>\n",
       "    </tr>\n",
       "  </tbody>\n",
       "</table>\n",
       "</div>"
      ],
      "text/plain": [
       "  authorized_flag          card_id  city_id category_1  installments  \\\n",
       "0               Y  C_ID_415bb3a509      107          N             1   \n",
       "1               Y  C_ID_415bb3a509      140          N             1   \n",
       "2               Y  C_ID_415bb3a509      330          N             1   \n",
       "3               Y  C_ID_415bb3a509       -1          Y             1   \n",
       "4               Y  C_ID_ef55cf8d4b       -1          Y             1   \n",
       "\n",
       "  category_3  merchant_category_id      merchant_id  month_lag  \\\n",
       "0          B                   307  M_ID_b0c793002c          1   \n",
       "1          B                   307  M_ID_88920c89e8          1   \n",
       "2          B                   507  M_ID_ad5237ef6b          2   \n",
       "3          B                   661  M_ID_9e84cda3b1          1   \n",
       "4          B                   166  M_ID_3c86fa3831          1   \n",
       "\n",
       "   purchase_amount       purchase_date  category_2  state_id  subsector_id  \n",
       "0        -0.557574 2018-03-11 14:57:36         1.0         9            19  \n",
       "1        -0.569580 2018-03-19 18:53:37         1.0         9            19  \n",
       "2        -0.551037 2018-04-26 14:08:44         1.0         9            14  \n",
       "3        -0.671925 2018-03-07 09:43:21         NaN        -1             8  \n",
       "4        -0.659904 2018-03-22 21:07:53         NaN        -1            29  "
      ]
     },
     "execution_count": 45,
     "metadata": {},
     "output_type": "execute_result"
    }
   ],
   "source": [
    "def read_transactions(filename):\n",
    "    return pd.read_csv(f'{PATH}{filename}', \n",
    "                                     dtype=column_types, \n",
    "                                     parse_dates=['purchase_date'],\n",
    "                                     infer_datetime_format=True)\n",
    "\n",
    "opt_new = read_transactions('new_merchant_transactions.csv')\n",
    "print(mem_usage(opt_new))\n",
    "opt_new.head()"
   ]
  }
 ],
 "metadata": {
  "kernelspec": {
   "display_name": "Python 3",
   "language": "python",
   "name": "python3"
  },
  "language_info": {
   "codemirror_mode": {
    "name": "ipython",
    "version": 3
   },
   "file_extension": ".py",
   "mimetype": "text/x-python",
   "name": "python",
   "nbconvert_exporter": "python",
   "pygments_lexer": "ipython3",
   "version": "3.6.6"
  }
 },
 "nbformat": 4,
 "nbformat_minor": 2
}
